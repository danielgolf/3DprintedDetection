{
 "cells": [
  {
   "cell_type": "code",
   "execution_count": null,
   "metadata": {},
   "outputs": [],
   "source": [
    "import matplotlib.pyplot as plt\n",
    "import numpy as np\n",
    "import os\n",
    "import cv2"
   ]
  },
  {
   "cell_type": "code",
   "execution_count": null,
   "metadata": {},
   "outputs": [],
   "source": [
    "%matplotlib tk"
   ]
  },
  {
   "cell_type": "code",
   "execution_count": null,
   "metadata": {},
   "outputs": [],
   "source": [
    "# collect image names\n",
    "BASE_PATH = '/home/daniel/Schreibtisch/bachelorarbeit/src'\n",
    "TEST_PATH = '{}/test_images/images/std_raw/'.format(BASE_PATH)\n",
    "\n",
    "img_names = []\n",
    "folders = os.listdir(TEST_PATH)\n",
    "for f in ['25']:\n",
    "    path = '{}/{}'.format(TEST_PATH, f)\n",
    "    if not os.path.isdir(path):\n",
    "        continue\n",
    "    images = map(lambda x: '{}/{}'.format(f, x), os.listdir(path))\n",
    "    img_names += list(images)"
   ]
  },
  {
   "cell_type": "code",
   "execution_count": null,
   "metadata": {},
   "outputs": [],
   "source": [
    "code = '191136'\n",
    "for i, name in enumerate(img_names[:]):\n",
    "    if code in name:\n",
    "        print(i, name)"
   ]
  },
  {
   "cell_type": "code",
   "execution_count": null,
   "metadata": {
    "scrolled": true
   },
   "outputs": [],
   "source": [
    "# load image\n",
    "i = 6\n",
    "img = cv2.imread(TEST_PATH + img_names[i], 1)\n",
    "\n",
    "plt.imshow(cv2.cvtColor(img, cv2.COLOR_BGR2RGB))\n",
    "plt.xticks([])\n",
    "plt.yticks([])\n",
    "plt.show()"
   ]
  },
  {
   "cell_type": "code",
   "execution_count": null,
   "metadata": {},
   "outputs": [],
   "source": [
    "# normalize\n",
    "img_norm = img - np.min(img)\n",
    "img_norm = (img_norm.astype('uint64') * 255 // np.max(img_norm)).astype('uint8')\n",
    "\n",
    "plt.imshow(cv2.cvtColor(img_norm, cv2.COLOR_BGR2RGB))\n",
    "plt.xticks([])\n",
    "plt.yticks([])\n",
    "plt.show()"
   ]
  },
  {
   "cell_type": "code",
   "execution_count": null,
   "metadata": {},
   "outputs": [],
   "source": [
    "# development\n",
    "t_img = cv2.GaussianBlur(img_norm, (21, 21), 5)\n",
    "\n",
    "plt.imshow(cv2.cvtColor(t_img, cv2.COLOR_BGR2RGB))\n",
    "plt.xticks([])\n",
    "plt.yticks([])\n",
    "plt.show()\n",
    "\n",
    "hsv = cv2.cvtColor(t_img, cv2.COLOR_BGR2HSV)\n",
    "\n",
    "low1 = (0, 0, 85)\n",
    "high1 = (80, 110, 255)\n",
    "\n",
    "low2 = (120, 0, 110)\n",
    "high2 = (179, 100, 255)\n",
    "\n",
    "mask1 = cv2.inRange(hsv, low1, high1)\n",
    "mask2 = cv2.inRange(hsv, low2, high2)\n",
    "\n",
    "mask = cv2.bitwise_or(mask1, mask2)"
   ]
  },
  {
   "cell_type": "code",
   "execution_count": null,
   "metadata": {},
   "outputs": [],
   "source": [
    "plt.imshow(hsv)\n",
    "plt.xticks([])\n",
    "plt.yticks([])\n",
    "plt.show()"
   ]
  },
  {
   "cell_type": "code",
   "execution_count": null,
   "metadata": {},
   "outputs": [],
   "source": [
    "plt.imshow(mask, cmap='gray')\n",
    "plt.xticks([])\n",
    "plt.yticks([])\n",
    "plt.show()"
   ]
  },
  {
   "cell_type": "code",
   "execution_count": null,
   "metadata": {},
   "outputs": [],
   "source": [
    "blowout = True\n",
    "if blowout:\n",
    "    mask = cv2.dilate(mask, np.ones((15,15), np.uint8), iterations = 1)\n",
    "contours, _ = cv2.findContours(mask.copy(),\n",
    "                               cv2.RETR_EXTERNAL,\n",
    "                               cv2.CHAIN_APPROX_SIMPLE)"
   ]
  },
  {
   "cell_type": "code",
   "execution_count": null,
   "metadata": {},
   "outputs": [],
   "source": [
    "# Find object with the biggest bounding box\n",
    "mx = (0, 0, 0, 0)      # biggest bounding box so far\n",
    "mx_area = 0\n",
    "mx_contourIdx = 0\n",
    "org_area = img.shape[0] * img.shape[1]  # area if original image\n",
    "\n",
    "for i, cont in enumerate(contours):\n",
    "    x, y, w, h = cv2.boundingRect(cont)\n",
    "    area = w * h\n",
    "    if area > mx_area and area < org_area:\n",
    "        mx = x, y, w, h\n",
    "        mx_area = area\n",
    "        mx_contourIdx = i"
   ]
  },
  {
   "cell_type": "code",
   "execution_count": null,
   "metadata": {},
   "outputs": [],
   "source": [
    "# blur outside of contour\n",
    "blur = True\n",
    "if blur:\n",
    "    blurred_image = cv2.GaussianBlur(img_norm,(31, 31), 10)\n",
    "    \n",
    "    mask = np.zeros(img_norm.shape, dtype=np.uint8)\n",
    "    cv2.fillPoly(mask, [contours[mx_contourIdx]], (255, 255, 255))\n",
    "    mask_inverse = np.ones(mask.shape).astype(np.uint8) * 255 - mask\n",
    "    \n",
    "    img_black = cv2.bitwise_and(img_norm, mask) + cv2.bitwise_and(blurred_image, mask_inverse)\n",
    "    \n",
    "    plt.imshow(cv2.cvtColor(img_black, cv2.COLOR_BGR2RGB))\n",
    "    plt.xticks([])\n",
    "    plt.yticks([])\n",
    "    plt.show()\n",
    "else:\n",
    "    img_black = img_norm"
   ]
  },
  {
   "cell_type": "code",
   "execution_count": null,
   "metadata": {},
   "outputs": [],
   "source": [
    "# make bounding box quadratic\n",
    "x, y, w, h = mx\n",
    "\n",
    "if w < h:\n",
    "    x -= (h - w) // 2\n",
    "    w = h\n",
    "elif h < w:\n",
    "    y -= (w - h) // 2\n",
    "    h = w\n",
    "    \n",
    "print(x, y, w, h)"
   ]
  },
  {
   "cell_type": "code",
   "execution_count": null,
   "metadata": {},
   "outputs": [],
   "source": [
    "border = 0.\n",
    "if border > 0.:\n",
    "    # add border to bounding box\n",
    "    border = int(w * border)\n",
    "\n",
    "    x -= border\n",
    "    y -= border\n",
    "    w += border * 2\n",
    "    h += border * 2\n",
    "\n",
    "print(x, y, w, h)"
   ]
  },
  {
   "cell_type": "code",
   "execution_count": null,
   "metadata": {},
   "outputs": [],
   "source": [
    "assert x > 0\n",
    "assert y > 0\n",
    "assert x + w < img.shape[1]\n",
    "assert y + h < img.shape[0]"
   ]
  },
  {
   "cell_type": "code",
   "execution_count": null,
   "metadata": {},
   "outputs": [],
   "source": [
    "# draw contour and box\n",
    "img_cont = img_black.copy()\n",
    "\n",
    "img_cont = cv2.drawContours(img_cont,\n",
    "                            contours,\n",
    "                            mx_contourIdx,\n",
    "                            (0, 255, 255), 5)\n",
    "img_cont = cv2.rectangle(img_cont, (x, y),\n",
    "                         (x+w, y+h),\n",
    "                         (255, 0, 255), 5)\n",
    "\n",
    "plt.imshow(cv2.cvtColor(img_cont, cv2.COLOR_BGR2RGB))\n",
    "plt.xticks([])\n",
    "plt.yticks([])\n",
    "# cv2.imwrite('./test.png', img_cont)\n",
    "plt.show()"
   ]
  },
  {
   "cell_type": "code",
   "execution_count": null,
   "metadata": {},
   "outputs": [],
   "source": [
    "# crop bounding box from image\n",
    "roi = img_black[y:y+h, x:x+w]\n",
    "print(roi.shape)\n",
    "\n",
    "plt.imshow(cv2.cvtColor(roi, cv2.COLOR_BGR2RGB))\n",
    "plt.xticks([])\n",
    "plt.yticks([])\n",
    "plt.show()"
   ]
  },
  {
   "cell_type": "code",
   "execution_count": null,
   "metadata": {},
   "outputs": [],
   "source": [
    "# resize image\n",
    "dim = (128, 128) # size of rendered images\n",
    "img_res = cv2.resize(roi, dim)\n",
    "\n",
    "print('Original Dimensions : ', roi.shape)\n",
    "print('New Dimensions : ', img_res.shape)\n",
    "\n",
    "plt.imshow(cv2.cvtColor(img_res, cv2.COLOR_BGR2RGB))\n",
    "plt.xticks([])\n",
    "plt.yticks([])\n",
    "plt.show()"
   ]
  },
  {
   "cell_type": "code",
   "execution_count": null,
   "metadata": {},
   "outputs": [],
   "source": [
    "# normalize\n",
    "img_norm2 = img_res - np.min(img_res)\n",
    "img_norm2 = (img_norm2.astype('uint64') * 255 // np.max(img_norm2)).astype('uint8')\n",
    "\n",
    "plt.imshow(cv2.cvtColor(img_norm2, cv2.COLOR_BGR2RGB))\n",
    "plt.xticks([])\n",
    "plt.yticks([])\n",
    "# cv2.imwrite('./test.png', img_norm2)\n",
    "plt.show()"
   ]
  },
  {
   "cell_type": "code",
   "execution_count": null,
   "metadata": {},
   "outputs": [],
   "source": []
  }
 ],
 "metadata": {
  "kernelspec": {
   "display_name": "Python 3",
   "language": "python",
   "name": "python3"
  },
  "language_info": {
   "codemirror_mode": {
    "name": "ipython",
    "version": 3
   },
   "file_extension": ".py",
   "mimetype": "text/x-python",
   "name": "python",
   "nbconvert_exporter": "python",
   "pygments_lexer": "ipython3",
   "version": "3.7.3"
  }
 },
 "nbformat": 4,
 "nbformat_minor": 2
}
