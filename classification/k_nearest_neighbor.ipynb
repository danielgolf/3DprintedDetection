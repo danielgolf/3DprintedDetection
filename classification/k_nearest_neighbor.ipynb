{
 "cells": [
  {
   "cell_type": "code",
   "execution_count": null,
   "metadata": {},
   "outputs": [],
   "source": [
    "from sklearn.neighbors import KNeighborsClassifier\n",
    "from sklearn.preprocessing import StandardScaler\n",
    "import matplotlib.pyplot as plt\n",
    "import numpy as np\n",
    "import cv2\n",
    "import os\n",
    "%matplotlib inline"
   ]
  },
  {
   "cell_type": "code",
   "execution_count": null,
   "metadata": {},
   "outputs": [],
   "source": [
    "# BASE_PATH = '/'.join(os.getcwd().split('/')[:-1])\n",
    "BASE_PATH = '/home/daniel/Schreibtisch/bachelorarbeit/src'\n",
    "TRAIN_PATH = '{}/train_images/images_croped/'.format(BASE_PATH)\n",
    "TEST_PATH = '{}/test_images/images/std_croped/'.format(BASE_PATH)"
   ]
  },
  {
   "cell_type": "code",
   "execution_count": null,
   "metadata": {},
   "outputs": [],
   "source": [
    "# collect filenames of train images\n",
    "train_img_names = []\n",
    "folders = os.listdir(TRAIN_PATH)\n",
    "for f in folders:\n",
    "    path = '{}/{}'.format(TRAIN_PATH, f)\n",
    "    if not os.path.isdir(path):\n",
    "        continue\n",
    "    images = map(lambda x: '{}/{}'.format(f, x), os.listdir(path))\n",
    "    train_img_names += list(images)"
   ]
  },
  {
   "cell_type": "code",
   "execution_count": null,
   "metadata": {},
   "outputs": [],
   "source": [
    "def print_img(img):\n",
    "    plt.figure(figsize=(15,15))\n",
    "    plt.imshow(img, cmap='gray')\n",
    "    plt.xticks([])\n",
    "    plt.yticks([])\n",
    "    plt.show()"
   ]
  },
  {
   "cell_type": "code",
   "execution_count": null,
   "metadata": {},
   "outputs": [],
   "source": [
    "X_train = []\n",
    "Y_train = []\n",
    "\n",
    "for img_name in train_img_names:\n",
    "    img = cv2.imread(TRAIN_PATH + img_name, 1)\n",
    "    img = img.astype(np.float32)\n",
    "    \n",
    "    X_train.append(img.flatten())\n",
    "    Y_train.append(int(img_name.split('/')[0]))\n",
    "\n",
    "X_train = np.asarray(X_train, dtype=np.float32)\n",
    "Y_train = np.asarray(Y_train, dtype=np.int16)\n",
    "\n",
    "X_train /= np.max(X_train)\n",
    "std_scaler = StandardScaler().fit(X_train)\n",
    "X_train = std_scaler.transform(X_train)"
   ]
  },
  {
   "cell_type": "code",
   "execution_count": null,
   "metadata": {},
   "outputs": [],
   "source": [
    "KNN = KNeighborsClassifier(\n",
    "    n_neighbors=3,\n",
    "    weights='distance',\n",
    "    algorithm='auto',\n",
    "    p=1,\n",
    "    n_jobs=-1\n",
    ").fit(X_train, Y_train)\n",
    "del(X_train)\n",
    "del(Y_train)"
   ]
  },
  {
   "cell_type": "code",
   "execution_count": null,
   "metadata": {},
   "outputs": [],
   "source": [
    "# collect filenames of test images\n",
    "test_img_names = os.listdir(TEST_PATH)"
   ]
  },
  {
   "cell_type": "code",
   "execution_count": null,
   "metadata": {},
   "outputs": [],
   "source": [
    "X_test = []\n",
    "Y_test = []\n",
    "\n",
    "for img_name in test_img_names:\n",
    "    img = cv2.imread(TEST_PATH + img_name, 1)\n",
    "    img = img.astype(np.float32)\n",
    "\n",
    "    X_test.append(img.flatten())\n",
    "    Y_test.append(int(img_name.split('_')[0]))\n",
    "    \n",
    "X_test = np.asarray(X_test, dtype=np.float32)\n",
    "Y_test = np.asarray(Y_test, dtype=np.int16)\n",
    "\n",
    "X_test /= np.max(X_test)\n",
    "X_test = std_scaler.transform(X_test)"
   ]
  },
  {
   "cell_type": "code",
   "execution_count": null,
   "metadata": {},
   "outputs": [],
   "source": [
    "# idx = Y_test == 5\n",
    "KNN.score(X_test[:], Y_test[:])"
   ]
  },
  {
   "cell_type": "code",
   "execution_count": null,
   "metadata": {},
   "outputs": [],
   "source": []
  }
 ],
 "metadata": {
  "kernelspec": {
   "display_name": "Python 3",
   "language": "python",
   "name": "python3"
  },
  "language_info": {
   "codemirror_mode": {
    "name": "ipython",
    "version": 3
   },
   "file_extension": ".py",
   "mimetype": "text/x-python",
   "name": "python",
   "nbconvert_exporter": "python",
   "pygments_lexer": "ipython3",
   "version": "3.7.4"
  }
 },
 "nbformat": 4,
 "nbformat_minor": 2
}
